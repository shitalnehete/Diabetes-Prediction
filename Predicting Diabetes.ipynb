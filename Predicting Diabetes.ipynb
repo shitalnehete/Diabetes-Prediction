{
 "cells": [
  {
   "cell_type": "markdown",
   "id": "03443ee3",
   "metadata": {},
   "source": [
    "## Dataset Information\n",
    "### Dataset: Pima Indians Diabetes Database\n",
    "https://www.kaggle.com/uciml/pima-indians-diabetes-database <br>\n",
    "Number of instances: 768 <br>\n",
    "Number of Features: 8"
   ]
  },
  {
   "cell_type": "markdown",
   "id": "3c4ac878",
   "metadata": {},
   "source": [
    "### Feature Information\n",
    "1.\tPregnancies : Number of times pregnant\n",
    "2.\tGlucose : Plasma glucose concentration a 2 hours in an oral glucose tolerance test\n",
    "3.\tBloodPressure : Diastolic blood pressure (mm Hg)\n",
    "4.\tSkinThickness : Triceps skin fold thickness (mm)\n",
    "5.\tInsulin : 2-Hour serum insulin (mu U/ml)\n",
    "6.\tBMIBody : mass index (weight in kg/(height in m)^2)\n",
    "7.\tDiabetesPedigreeFunction : Diabetes pedigree function\n",
    "8.\tAge : Age (years)\n"
   ]
  },
  {
   "cell_type": "markdown",
   "id": "61599f1a",
   "metadata": {},
   "source": [
    "### What we want Model to Predict?\n",
    "•\tProbability of a Patient being Diabetic based on 8 input features\n"
   ]
  },
  {
   "cell_type": "markdown",
   "id": "8c07022c",
   "metadata": {},
   "source": [
    "### Load Data"
   ]
  },
  {
   "cell_type": "code",
   "execution_count": null,
   "id": "b2ea20da",
   "metadata": {},
   "outputs": [],
   "source": [
    "import pandas as pd"
   ]
  },
  {
   "cell_type": "code",
   "execution_count": null,
   "id": "ea0eb12f",
   "metadata": {},
   "outputs": [],
   "source": [
    "#Read dataset as pandas dataframe (Download file from Kaggle)\n",
    "df = pd.read_csv('diabetes.csv')"
   ]
  },
  {
   "cell_type": "code",
   "execution_count": null,
   "id": "8db2e839",
   "metadata": {},
   "outputs": [],
   "source": [
    "#Number of examples and Features\n",
    "df.shape"
   ]
  },
  {
   "cell_type": "code",
   "execution_count": null,
   "id": "bce0d13a",
   "metadata": {},
   "outputs": [],
   "source": [
    "#Checking the data\n",
    "df.head()"
   ]
  },
  {
   "cell_type": "markdown",
   "id": "169cd352",
   "metadata": {},
   "source": [
    "### Prepare Data for Model Training"
   ]
  },
  {
   "cell_type": "code",
   "execution_count": null,
   "id": "475f916a",
   "metadata": {},
   "outputs": [],
   "source": [
    "#Input features\n",
    "X = df.drop('Outcome', axis=1)\n",
    "X.shape"
   ]
  },
  {
   "cell_type": "code",
   "execution_count": null,
   "id": "2c65b437",
   "metadata": {},
   "outputs": [],
   "source": [
    "#Target Variable \n",
    "y = df['Outcome']"
   ]
  },
  {
   "cell_type": "markdown",
   "id": "0a82561e",
   "metadata": {},
   "source": [
    "### Split the data between Training and Test Dataset"
   ]
  },
  {
   "cell_type": "code",
   "execution_count": null,
   "id": "7bb35d57",
   "metadata": {},
   "outputs": [],
   "source": [
    "from sklearn.model_selection import train_test_split"
   ]
  },
  {
   "cell_type": "code",
   "execution_count": null,
   "id": "bf3756fd",
   "metadata": {},
   "outputs": [],
   "source": [
    "X_train, X_test, y_train, y_test = train_test_split(X, y, #We will split both features and Label\n",
    "                                                    test_size=0.3, #0.3 means 30% of data will be test data\n",
    "                                                    random_state=42)"
   ]
  },
  {
   "cell_type": "code",
   "execution_count": null,
   "id": "783c5a45",
   "metadata": {},
   "outputs": [],
   "source": [
    "print('Number of training examples: ', X_train.shape[0])\n",
    "print('Number of test examples: ', X_test.shape[0])"
   ]
  },
  {
   "cell_type": "markdown",
   "id": "9b06aa0e",
   "metadata": {},
   "source": [
    "### Building the Model"
   ]
  },
  {
   "cell_type": "code",
   "execution_count": null,
   "id": "958c3ecc",
   "metadata": {},
   "outputs": [],
   "source": [
    "from sklearn.tree import DecisionTreeClassifier"
   ]
  },
  {
   "cell_type": "code",
   "execution_count": null,
   "id": "fe8979d7",
   "metadata": {},
   "outputs": [],
   "source": [
    "#Initialize Model\n",
    "model = DecisionTreeClassifier(min_samples_leaf=5, min_samples_split=20)\n",
    "\n",
    "#Train the model on training data\n",
    "model.fit(X_train, y_train)"
   ]
  },
  {
   "cell_type": "markdown",
   "id": "546ca27f",
   "metadata": {},
   "source": [
    "### What is the accuracy?"
   ]
  },
  {
   "cell_type": "code",
   "execution_count": null,
   "id": "a0565488",
   "metadata": {},
   "outputs": [],
   "source": [
    "#Training Accuracy\n",
    "model.score(X_train, y_train)"
   ]
  },
  {
   "cell_type": "code",
   "execution_count": null,
   "id": "ac2eff3d",
   "metadata": {},
   "outputs": [],
   "source": [
    "#Test Accuracy\n",
    "model.score(X_test, y_test)"
   ]
  }
 ],
 "metadata": {
  "kernelspec": {
   "display_name": "Python 3 (ipykernel)",
   "language": "python",
   "name": "python3"
  },
  "language_info": {
   "codemirror_mode": {
    "name": "ipython",
    "version": 3
   },
   "file_extension": ".py",
   "mimetype": "text/x-python",
   "name": "python",
   "nbconvert_exporter": "python",
   "pygments_lexer": "ipython3",
   "version": "3.9.6"
  }
 },
 "nbformat": 4,
 "nbformat_minor": 5
}
